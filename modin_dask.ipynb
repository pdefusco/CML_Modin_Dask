{
 "cells": [
  {
   "cell_type": "code",
   "execution_count": 1,
   "id": "62f1bb45-9129-4cce-b56d-8eb0f80ba1d7",
   "metadata": {},
   "outputs": [
    {
     "name": "stdout",
     "output_type": "stream",
     "text": [
      "\n",
      "--------------------\n",
      "Dask cluster started\n",
      "--------------------\n",
      "\n",
      "The Dask dashboard is running at\n",
      "https://0uupakg3edsmm8ui.ml-57e3cb91-a18.paul-aug.a465-9q4k.cloudera.site/status\n",
      "\n",
      "To connect to this Dask cluster from this CML Session,\n",
      "use the following Python code:\n",
      "  from dask.distributed import Client\n",
      "  client = Client('tcp://100.100.37.148:8786')\n",
      "\n"
     ]
    }
   ],
   "source": [
    "import os\n",
    "import cdsw\n",
    "from cmlextensions.dask_cluster import DaskCluster\n",
    "import modin.pandas as pd\n",
    "import modin.config as modin_cfg\n",
    "\n",
    "#os.environ[\"\"]\n",
    "\n",
    "cluster = DaskCluster(num_workers=10)\n",
    "cluster.init()"
   ]
  },
  {
   "cell_type": "code",
   "execution_count": 2,
   "id": "db62b902-2968-41fd-9deb-d6dbd1b1cfa6",
   "metadata": {},
   "outputs": [],
   "source": [
    "from dask.distributed import Client\n",
    "client = Client('tcp://100.100.37.148:8786')\n",
    "\n",
    "modin_cfg.Engine.put(\"dask\")"
   ]
  },
  {
   "cell_type": "code",
   "execution_count": 3,
   "id": "58ff2984-98a3-4ffb-91b3-56fe8ffa58c0",
   "metadata": {},
   "outputs": [],
   "source": [
    "df = pd.read_parquet(\"s3://paul-aug26-buk-a3c2b50a/data/pdefusco/modin/1kcols\")"
   ]
  },
  {
   "cell_type": "code",
   "execution_count": 5,
   "id": "a7ce8abc-09de-44c7-a35a-c8fdcc4d0e86",
   "metadata": {},
   "outputs": [
    {
     "name": "stdout",
     "output_type": "stream",
     "text": [
      "<class 'modin.pandas.dataframe.DataFrame'>\n",
      "RangeIndex: 500000 entries, 0 to 499999\n",
      "Columns: 999 entries, col1 to col999\n",
      "dtypes: float32(998), object(1)\n",
      "memory usage: 1.9+ GB\n"
     ]
    }
   ],
   "source": [
    "df.info()"
   ]
  },
  {
   "cell_type": "code",
   "execution_count": null,
   "id": "7889e056-7e8a-48d1-8b2b-42417843a1ce",
   "metadata": {},
   "outputs": [],
   "source": []
  },
  {
   "cell_type": "code",
   "execution_count": null,
   "id": "e31ecf03-c2f4-4cd1-a873-d8041ebed095",
   "metadata": {},
   "outputs": [],
   "source": []
  }
 ],
 "metadata": {
  "kernelspec": {
   "display_name": "Python 3 (ipykernel)",
   "language": "python",
   "name": "python3"
  },
  "language_info": {
   "codemirror_mode": {
    "name": "ipython",
    "version": 3
   },
   "file_extension": ".py",
   "mimetype": "text/x-python",
   "name": "python",
   "nbconvert_exporter": "python",
   "pygments_lexer": "ipython3",
   "version": "3.10.13"
  }
 },
 "nbformat": 4,
 "nbformat_minor": 5
}
